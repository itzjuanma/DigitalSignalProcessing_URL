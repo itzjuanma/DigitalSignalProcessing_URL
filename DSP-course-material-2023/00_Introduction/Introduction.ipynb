{
 "cells": [
  {
   "cell_type": "markdown",
   "metadata": {
    "deletable": false,
    "editable": false,
    "nbgrader": {
     "cell_type": "markdown",
     "checksum": "09a0483c2f23f74f12c046a604b62aa9",
     "grade": false,
     "grade_id": "cell-420ab5b382d4e371",
     "locked": true,
     "schema_version": 3,
     "solution": false,
     "task": false
    }
   },
   "source": [
    "# Introduction\n",
    "This Jupyter Notebook will be a warm up for the course work, and it will teach you how to use the material during this semester.\n",
    "\n",
    "Usually there are two types of cells that you will encounter:\n",
    "1. Code based cells:\n",
    "    * Read only cell\n",
    "    * Complete assigment cell\n",
    "    * Auto test and grading cell\n",
    "\n",
    "\n",
    "2. Markdown text cells\n",
    "    * Read only cell\n",
    "    * Complete assigment cell"
   ]
  },
  {
   "cell_type": "markdown",
   "metadata": {
    "deletable": false,
    "editable": false,
    "nbgrader": {
     "cell_type": "markdown",
     "checksum": "ae771e5138e8a5d974949636ddf32abb",
     "grade": false,
     "grade_id": "cell-c946c9f4e2e53730",
     "locked": true,
     "schema_version": 3,
     "solution": false,
     "task": false
    }
   },
   "source": [
    "## 1.1 Code based cells: Read only cell\n",
    "An example of a read only code base cell is the following one, where different libraries are imported. Usually you will see that *NumPy*, *matplotlib* and *pickle* are among the libraries that we use throught the course."
   ]
  },
  {
   "cell_type": "code",
   "execution_count": 55,
   "metadata": {
    "deletable": false,
    "editable": false,
    "nbgrader": {
     "cell_type": "code",
     "checksum": "2265034b5e1a0bb87fe97496f0a7d615",
     "grade": false,
     "grade_id": "cell-59bc259b6f781f16",
     "locked": true,
     "schema_version": 3,
     "solution": false,
     "task": false
    }
   },
   "outputs": [],
   "source": [
    "import numpy as np\n",
    "import matplotlib.pyplot as plt\n",
    "import pickle"
   ]
  },
  {
   "cell_type": "markdown",
   "metadata": {
    "deletable": false,
    "editable": false,
    "nbgrader": {
     "cell_type": "markdown",
     "checksum": "ef6ad9972fb96b12224b8e85686f056f",
     "grade": false,
     "grade_id": "cell-2a37878e1a500195",
     "locked": true,
     "schema_version": 3,
     "solution": false,
     "task": false
    }
   },
   "source": [
    "## 1.2 Code based cells: Complete assigment cell\n",
    "This type of cells are for you to complete an assigment that later will be graded. Usually some extra information is provided for you to complete a task. The following is an example of this type of cell."
   ]
  },
  {
   "cell_type": "code",
   "execution_count": 56,
   "metadata": {
    "deletable": false,
    "nbgrader": {
     "cell_type": "code",
     "checksum": "0e208b5d3c7fba503bef9b1d363aa56d",
     "grade": false,
     "grade_id": "cell-91aa5ce7f0ca9763",
     "locked": false,
     "schema_version": 3,
     "solution": true,
     "task": false
    }
   },
   "outputs": [],
   "source": [
    "# Create a function named `distance` that calculates the euclidian distance between two vectors.\n",
    "\n",
    "def distance(vect1, vect2):\n",
    "    \"\"\"\n",
    "    Function that calculates the distance between vector vect1 and vect2.\n",
    "    Parameters: \n",
    "    vect1 (numpy array): Array of numbers representing a vector.\n",
    "    vect2 (numpy array): Array of numbers representing a vector.\n",
    "  \n",
    "    Returns: \n",
    "    distance (float): Returns distance betwee two vectors\n",
    "    \n",
    "    \"\"\"\n",
    "    # YOUR CODE HERE\n",
    "    distance = np.sqrt(np.sum(np.square(vect1 - vect2)))\n",
    "\n",
    "    \"\"\"x = vect2[0]-vect1[0]\n",
    "    y = vect2[1]-vect1[1]\n",
    "    z = vect2[2]-vect1[2]\n",
    "    D = np.power(x,2) + np.power(y,2) + np.power(z,2)\n",
    "    distance = np.sqrt(D)\"\"\"\n",
    "    \n",
    "    return distance"
   ]
  },
  {
   "cell_type": "markdown",
   "metadata": {
    "deletable": false,
    "editable": false,
    "nbgrader": {
     "cell_type": "markdown",
     "checksum": "99bb23e17570cfea0f5ea75e15a40f64",
     "grade": false,
     "grade_id": "cell-62d13627fa26aa6b",
     "locked": true,
     "schema_version": 3,
     "solution": false,
     "task": false
    }
   },
   "source": [
    "## 1.3 Code based cells: Auto test and grading cell\n",
    "After you completed you solution, you can test and grade your code. For this, code based test and grading cells are used. The following cell shows how this cells work."
   ]
  },
  {
   "cell_type": "code",
   "execution_count": 57,
   "metadata": {
    "deletable": false,
    "editable": false,
    "nbgrader": {
     "cell_type": "code",
     "checksum": "b498946d8e2c0c5dace11c9620e94b4e",
     "grade": true,
     "grade_id": "cell-40438960591853ff",
     "locked": true,
     "points": 100,
     "schema_version": 3,
     "solution": false,
     "task": false
    }
   },
   "outputs": [],
   "source": [
    "vect1 = np.array([5, 5, 5])\n",
    "vect2 = np.array([4, 4, 4])\n",
    "\n",
    "# Test using calculation\n",
    "assert (distance(vect1, vect2) == np.sqrt(3))\n",
    "\n",
    "# Test using pickle\n",
    "with open('test.pkl', 'rb') as file:\n",
    "    dis_pkl = pickle.load(file)\n",
    "    \n",
    "assert np.allclose(distance(vect1, vect2), dis_pkl, atol=0.0001)"
   ]
  },
  {
   "cell_type": "markdown",
   "metadata": {
    "deletable": false,
    "editable": false,
    "nbgrader": {
     "cell_type": "markdown",
     "checksum": "993ae3742adebb24ba17e893e6d8076a",
     "grade": false,
     "grade_id": "cell-8d25a260cb75d054",
     "locked": true,
     "schema_version": 3,
     "solution": false,
     "task": false
    }
   },
   "source": [
    "## 2.1 Markdown text cells: Read only cell\n",
    "This is an example of a read only markdown cell. Almost all of the text you will see in these Notebooks uses read only cells."
   ]
  },
  {
   "cell_type": "markdown",
   "metadata": {
    "deletable": false,
    "editable": false,
    "nbgrader": {
     "cell_type": "markdown",
     "checksum": "5cdef42f1e29adbfa6a9d8b2b4c86008",
     "grade": false,
     "grade_id": "cell-3912a2ab1ad67570",
     "locked": true,
     "schema_version": 3,
     "solution": false,
     "task": false
    }
   },
   "source": [
    "## 2.2 Markdown text cells: Complete assigment cell\n",
    "This type of cell expects that you input some text information using markdown format. \n",
    "\n",
    "Answer in the following cell, what is your name?"
   ]
  },
  {
   "cell_type": "markdown",
   "metadata": {
    "deletable": false,
    "nbgrader": {
     "cell_type": "markdown",
     "checksum": "7321522d10d02ff23a5b37e829738826",
     "grade": true,
     "grade_id": "cell-af404929162a46a1",
     "locked": false,
     "points": 0,
     "schema_version": 3,
     "solution": true,
     "task": false
    }
   },
   "source": [
    "YOUR ANSWER HERE\n",
    "Juan Manuel Barillas García\n"
   ]
  },
  {
   "cell_type": "markdown",
   "metadata": {
    "deletable": false,
    "editable": false,
    "nbgrader": {
     "cell_type": "markdown",
     "checksum": "2088f50ae0b22409d26c61092c8129a3",
     "grade": false,
     "grade_id": "cell-d307211bba93aa82",
     "locked": true,
     "schema_version": 3,
     "solution": false,
     "task": false
    },
    "tags": []
   },
   "source": [
    "## 3. NumPy\n",
    "NumPy is the fundamental package for scientific computing in Python. It is a Python library that provides a multidimensional array object, various derived objects, and an assortment of routines for fast operations on arrays."
   ]
  },
  {
   "cell_type": "markdown",
   "metadata": {
    "deletable": false,
    "editable": false,
    "nbgrader": {
     "cell_type": "markdown",
     "checksum": "52bf3b07669b1ef8b3876fdc5d17e468",
     "grade": false,
     "grade_id": "cell-38c4a63a4eb8ca5c",
     "locked": true,
     "schema_version": 3,
     "solution": false,
     "task": false
    }
   },
   "source": [
    "## 3.1 Arrays"
   ]
  },
  {
   "cell_type": "code",
   "execution_count": 58,
   "metadata": {
    "deletable": false,
    "nbgrader": {
     "cell_type": "code",
     "checksum": "60922e4768770dc4063993f8015c9a3e",
     "grade": false,
     "grade_id": "cell-4ab15d61d169d99f",
     "locked": false,
     "schema_version": 3,
     "solution": true,
     "task": false
    }
   },
   "outputs": [
    {
     "data": {
      "text/plain": [
       "array([1, 2, 3])"
      ]
     },
     "execution_count": 58,
     "metadata": {},
     "output_type": "execute_result"
    }
   ],
   "source": [
    "# Define two arrays\n",
    "# YOUR CODE HERE\n",
    "a = np.array([1,2,3])\n",
    "b = np.array([1,1,1])\n",
    "\n",
    "\n",
    "# Operations\n",
    "# Addition\n",
    "# YOUR CODE HERE\n",
    "c = a + b\n",
    "\n",
    "\n",
    "\n",
    "# Subtraction\n",
    "# YOUR CODE HERE\n",
    "d = a - b\n",
    "\n",
    "# Multiplication (element wise)\n",
    "# YOUR CODE HERE\n",
    "e = a * b\n",
    "\n",
    "# Division (element wise)\n",
    "# YOUR CODE HERE\n",
    "f = a / b\n",
    "\n",
    "e"
   ]
  },
  {
   "cell_type": "code",
   "execution_count": 59,
   "metadata": {
    "deletable": false,
    "nbgrader": {
     "cell_type": "code",
     "checksum": "e2221606e62543729288daafcc61486a",
     "grade": false,
     "grade_id": "cell-c6274821bbcc2d34",
     "locked": false,
     "schema_version": 3,
     "solution": true,
     "task": false
    }
   },
   "outputs": [],
   "source": [
    "## 3.2 Matrices\n",
    "\n",
    "# Create two matrices\n",
    "# YOUR CODE HERE\n",
    "A = np.array([[1, 2, 3], [4, 5, 6], [7, 8, 9]])\n",
    "B = np.array([[1], [1], [1]])\n",
    "\n",
    "B\n",
    "\n",
    "# Multiply both matrices using the @ operator\n",
    "# YOUR CODE HERE\n",
    "C = A@B\n",
    "\n",
    "# Multiply both matrices using the numpy\n",
    "# YOUR CODE HERE\n",
    "D = np.dot(A,B)"
   ]
  },
  {
   "cell_type": "markdown",
   "metadata": {
    "deletable": false,
    "editable": false,
    "nbgrader": {
     "cell_type": "markdown",
     "checksum": "d8062acb354c9d08dbbd7312f2a4065c",
     "grade": false,
     "grade_id": "cell-4492fcd0673511bb",
     "locked": true,
     "schema_version": 3,
     "solution": false,
     "task": false
    }
   },
   "source": [
    "## 3.3 Shapes"
   ]
  },
  {
   "cell_type": "code",
   "execution_count": 60,
   "metadata": {
    "deletable": false,
    "nbgrader": {
     "cell_type": "code",
     "checksum": "5157ead738ed47c73f13855bfab29d92",
     "grade": false,
     "grade_id": "cell-d24ae0e8eadb2299",
     "locked": false,
     "schema_version": 3,
     "solution": true,
     "task": false
    }
   },
   "outputs": [
    {
     "name": "stdout",
     "output_type": "stream",
     "text": [
      "(3,)\n",
      "(3, 1)\n"
     ]
    }
   ],
   "source": [
    "# YOUR CODE HERE\n",
    "a = np.array([1, 2, 3])\n",
    "print(a.shape)\n",
    "\n",
    "b = np.array([[1],[2], [3]])\n",
    "print(b.shape)"
   ]
  },
  {
   "cell_type": "code",
   "execution_count": 61,
   "metadata": {
    "deletable": false,
    "nbgrader": {
     "cell_type": "code",
     "checksum": "5157ead738ed47c73f13855bfab29d92",
     "grade": false,
     "grade_id": "cell-d24ae0e8eadb2299",
     "locked": false,
     "schema_version": 3,
     "solution": true,
     "task": false
    }
   },
   "outputs": [
    {
     "data": {
      "text/plain": [
       "array([[ 1,  2,  3,  4,  5,  6,  7,  8,  9, 10]])"
      ]
     },
     "execution_count": 61,
     "metadata": {},
     "output_type": "execute_result"
    }
   ],
   "source": [
    "x = np.array([1, 2, 3, 4, 5, 6, 7, 8, 9, 10])\n",
    "x.reshape(1,-1)"
   ]
  },
  {
   "cell_type": "code",
   "execution_count": 62,
   "metadata": {
    "deletable": false,
    "nbgrader": {
     "cell_type": "code",
     "checksum": "5157ead738ed47c73f13855bfab29d92",
     "grade": false,
     "grade_id": "cell-d24ae0e8eadb2299",
     "locked": false,
     "schema_version": 3,
     "solution": true,
     "task": false
    }
   },
   "outputs": [
    {
     "name": "stdout",
     "output_type": "stream",
     "text": [
      "El resultado del calculo es =  [1 2 3]\n"
     ]
    }
   ],
   "source": [
    "print(\"El resultado del calculo es = \", a)"
   ]
  },
  {
   "cell_type": "code",
   "execution_count": 63,
   "metadata": {
    "deletable": false,
    "nbgrader": {
     "cell_type": "code",
     "checksum": "5157ead738ed47c73f13855bfab29d92",
     "grade": false,
     "grade_id": "cell-d24ae0e8eadb2299",
     "locked": false,
     "schema_version": 3,
     "solution": true,
     "task": false
    }
   },
   "outputs": [
    {
     "name": "stdout",
     "output_type": "stream",
     "text": [
      "El resultado del calculo es = [1 2 3] y b = [[1]\n",
      " [2]\n",
      " [3]] es c = [2 3 4]\n"
     ]
    }
   ],
   "source": [
    "print(f\"El resultado del calculo es = {a} y b = {b} es c = {c}\")"
   ]
  },
  {
   "cell_type": "markdown",
   "metadata": {
    "deletable": false,
    "editable": false,
    "nbgrader": {
     "cell_type": "markdown",
     "checksum": "914979a8fcf14ceec52d18231c1b4dd6",
     "grade": false,
     "grade_id": "cell-f125e1e67fd37e4e",
     "locked": true,
     "schema_version": 3,
     "solution": false,
     "task": false
    }
   },
   "source": [
    "## 3.4 Load data from a file"
   ]
  },
  {
   "cell_type": "code",
   "execution_count": 64,
   "metadata": {
    "deletable": false,
    "nbgrader": {
     "cell_type": "code",
     "checksum": "58c68fb0c12c985023fcb417100aeb03",
     "grade": false,
     "grade_id": "cell-f78f4a5d379fa752",
     "locked": false,
     "schema_version": 3,
     "solution": true,
     "task": false
    }
   },
   "outputs": [
    {
     "name": "stdout",
     "output_type": "stream",
     "text": [
      "/Users/juanbarillas/Downloads/DSP-course-material-2023/00_Introduction\n"
     ]
    }
   ],
   "source": [
    "# YOUR CODE HERE\n",
    "! pwd"
   ]
  },
  {
   "cell_type": "code",
   "execution_count": 65,
   "metadata": {
    "deletable": false,
    "nbgrader": {
     "cell_type": "code",
     "checksum": "58c68fb0c12c985023fcb417100aeb03",
     "grade": false,
     "grade_id": "cell-f78f4a5d379fa752",
     "locked": false,
     "schema_version": 3,
     "solution": true,
     "task": false
    }
   },
   "outputs": [
    {
     "name": "stdout",
     "output_type": "stream",
     "text": [
      "[[ 0.        ]\n",
      " [ 0.59246596]\n",
      " [-0.09473435]\n",
      " [ 0.19134172]\n",
      " [ 1.        ]\n",
      " [ 0.41741971]\n",
      " [ 0.35355339]\n",
      " [ 1.25529311]\n",
      " [ 0.8660254 ]\n",
      " [ 0.46193977]\n",
      " [ 1.31947922]\n",
      " [ 1.18278658]\n",
      " [ 0.5       ]\n",
      " [ 1.18278658]\n",
      " [ 1.31947922]\n",
      " [ 0.46193977]\n",
      " [ 0.8660254 ]\n",
      " [ 1.25529311]\n",
      " [ 0.35355339]\n",
      " [ 0.41741971]\n",
      " [ 1.        ]\n",
      " [ 0.19134172]\n",
      " [-0.09473435]\n",
      " [ 0.59246596]\n",
      " [-0.        ]\n",
      " [-0.59246596]\n",
      " [ 0.09473435]\n",
      " [-0.19134172]\n",
      " [-1.        ]\n",
      " [-0.41741971]\n",
      " [-0.35355339]\n",
      " [-1.25529311]\n",
      " [-0.8660254 ]\n",
      " [-0.46193977]\n",
      " [-1.31947922]\n",
      " [-1.18278658]\n",
      " [-0.5       ]\n",
      " [-1.18278658]\n",
      " [-1.31947922]\n",
      " [-0.46193977]\n",
      " [-0.8660254 ]\n",
      " [-1.25529311]\n",
      " [-0.35355339]\n",
      " [-0.41741971]\n",
      " [-1.        ]\n",
      " [-0.19134172]\n",
      " [ 0.09473435]\n",
      " [-0.59246596]\n",
      " [ 0.        ]\n",
      " [ 0.59246596]\n",
      " [-0.09473435]\n",
      " [ 0.19134172]\n",
      " [ 1.        ]\n",
      " [ 0.41741971]\n",
      " [ 0.35355339]\n",
      " [ 1.25529311]\n",
      " [ 0.8660254 ]\n",
      " [ 0.46193977]\n",
      " [ 1.31947922]\n",
      " [ 1.18278658]\n",
      " [ 0.5       ]\n",
      " [ 1.18278658]\n",
      " [ 1.31947922]\n",
      " [ 0.46193977]\n",
      " [ 0.8660254 ]\n",
      " [ 1.25529311]\n",
      " [ 0.35355339]\n",
      " [ 0.41741971]\n",
      " [ 1.        ]\n",
      " [ 0.19134172]\n",
      " [-0.09473435]\n",
      " [ 0.59246596]\n",
      " [ 0.        ]\n",
      " [-0.59246596]\n",
      " [ 0.09473435]\n",
      " [-0.19134172]\n",
      " [-1.        ]\n",
      " [-0.41741971]\n",
      " [-0.35355339]\n",
      " [-1.25529311]\n",
      " [-0.8660254 ]\n",
      " [-0.46193977]\n",
      " [-1.31947922]\n",
      " [-1.18278658]\n",
      " [-0.5       ]\n",
      " [-1.18278658]\n",
      " [-1.31947922]\n",
      " [-0.46193977]\n",
      " [-0.8660254 ]\n",
      " [-1.25529311]\n",
      " [-0.35355339]\n",
      " [-0.41741971]\n",
      " [-1.        ]\n",
      " [-0.19134172]\n",
      " [ 0.09473435]\n",
      " [-0.59246596]\n",
      " [ 0.        ]\n",
      " [ 0.59246596]\n",
      " [-0.09473435]\n",
      " [ 0.19134172]\n",
      " [ 1.        ]\n",
      " [ 0.41741971]\n",
      " [ 0.35355339]\n",
      " [ 1.25529311]\n",
      " [ 0.8660254 ]\n",
      " [ 0.46193977]\n",
      " [ 1.31947922]\n",
      " [ 1.18278658]\n",
      " [ 0.5       ]\n",
      " [ 1.18278658]\n",
      " [ 1.31947922]\n",
      " [ 0.46193977]\n",
      " [ 0.8660254 ]\n",
      " [ 1.25529311]\n",
      " [ 0.35355339]\n",
      " [ 0.41741971]\n",
      " [ 1.        ]\n",
      " [ 0.19134172]\n",
      " [-0.09473435]\n",
      " [ 0.59246596]\n",
      " [ 0.        ]\n",
      " [-0.59246596]\n",
      " [ 0.09473435]\n",
      " [-0.19134172]\n",
      " [-1.        ]\n",
      " [-0.41741971]\n",
      " [-0.35355339]\n",
      " [-1.25529311]\n",
      " [-0.8660254 ]\n",
      " [-0.46193977]\n",
      " [-1.31947922]\n",
      " [-1.18278658]\n",
      " [-0.5       ]\n",
      " [-1.18278658]\n",
      " [-1.31947922]\n",
      " [-0.46193977]\n",
      " [-0.8660254 ]\n",
      " [-1.25529311]\n",
      " [-0.35355339]\n",
      " [-0.41741971]\n",
      " [-1.        ]\n",
      " [-0.19134172]\n",
      " [ 0.09473435]\n",
      " [-0.59246596]\n",
      " [-0.        ]\n",
      " [ 0.59246596]\n",
      " [-0.09473435]\n",
      " [ 0.19134172]\n",
      " [ 1.        ]\n",
      " [ 0.41741971]\n",
      " [ 0.35355339]\n",
      " [ 1.25529311]\n",
      " [ 0.8660254 ]\n",
      " [ 0.46193977]\n",
      " [ 1.31947922]\n",
      " [ 1.18278658]\n",
      " [ 0.5       ]\n",
      " [ 1.18278658]\n",
      " [ 1.31947922]\n",
      " [ 0.46193977]\n",
      " [ 0.8660254 ]\n",
      " [ 1.25529311]\n",
      " [ 0.35355339]\n",
      " [ 0.41741971]\n",
      " [ 1.        ]\n",
      " [ 0.19134172]\n",
      " [-0.09473435]\n",
      " [ 0.59246596]\n",
      " [-0.        ]\n",
      " [-0.59246596]\n",
      " [ 0.09473435]\n",
      " [-0.19134172]\n",
      " [-1.        ]\n",
      " [-0.41741971]\n",
      " [-0.35355339]\n",
      " [-1.25529311]\n",
      " [-0.8660254 ]\n",
      " [-0.46193977]\n",
      " [-1.31947922]\n",
      " [-1.18278658]\n",
      " [-0.5       ]\n",
      " [-1.18278658]\n",
      " [-1.31947922]\n",
      " [-0.46193977]\n",
      " [-0.8660254 ]\n",
      " [-1.25529311]\n",
      " [-0.35355339]\n",
      " [-0.41741971]\n",
      " [-1.        ]\n",
      " [-0.19134172]\n",
      " [ 0.09473435]\n",
      " [-0.59246596]\n",
      " [ 0.        ]\n",
      " [ 0.59246596]\n",
      " [-0.09473435]\n",
      " [ 0.19134172]\n",
      " [ 1.        ]\n",
      " [ 0.41741971]\n",
      " [ 0.35355339]\n",
      " [ 1.25529311]\n",
      " [ 0.8660254 ]\n",
      " [ 0.46193977]\n",
      " [ 1.31947922]\n",
      " [ 1.18278658]\n",
      " [ 0.5       ]\n",
      " [ 1.18278658]\n",
      " [ 1.31947922]\n",
      " [ 0.46193977]\n",
      " [ 0.8660254 ]\n",
      " [ 1.25529311]\n",
      " [ 0.35355339]\n",
      " [ 0.41741971]\n",
      " [ 1.        ]\n",
      " [ 0.19134172]\n",
      " [-0.09473435]\n",
      " [ 0.59246596]\n",
      " [ 0.        ]\n",
      " [-0.59246596]\n",
      " [ 0.09473435]\n",
      " [-0.19134172]\n",
      " [-1.        ]\n",
      " [-0.41741971]\n",
      " [-0.35355339]\n",
      " [-1.25529311]\n",
      " [-0.8660254 ]\n",
      " [-0.46193977]\n",
      " [-1.31947922]\n",
      " [-1.18278658]\n",
      " [-0.5       ]\n",
      " [-1.18278658]\n",
      " [-1.31947922]\n",
      " [-0.46193977]\n",
      " [-0.8660254 ]\n",
      " [-1.25529311]\n",
      " [-0.35355339]\n",
      " [-0.41741971]\n",
      " [-1.        ]\n",
      " [-0.19134172]\n",
      " [ 0.09473435]\n",
      " [-0.59246596]\n",
      " [-0.        ]\n",
      " [ 0.59246596]\n",
      " [-0.09473435]\n",
      " [ 0.19134172]\n",
      " [ 1.        ]\n",
      " [ 0.41741971]\n",
      " [ 0.35355339]\n",
      " [ 1.25529311]\n",
      " [ 0.8660254 ]\n",
      " [ 0.46193977]\n",
      " [ 1.31947922]\n",
      " [ 1.18278658]\n",
      " [ 0.5       ]\n",
      " [ 1.18278658]\n",
      " [ 1.31947922]\n",
      " [ 0.46193977]\n",
      " [ 0.8660254 ]\n",
      " [ 1.25529311]\n",
      " [ 0.35355339]\n",
      " [ 0.41741971]\n",
      " [ 1.        ]\n",
      " [ 0.19134172]\n",
      " [-0.09473435]\n",
      " [ 0.59246596]\n",
      " [ 0.        ]\n",
      " [-0.59246596]\n",
      " [ 0.09473435]\n",
      " [-0.19134172]\n",
      " [-1.        ]\n",
      " [-0.41741971]\n",
      " [-0.35355339]\n",
      " [-1.25529311]\n",
      " [-0.8660254 ]\n",
      " [-0.46193977]\n",
      " [-1.31947922]\n",
      " [-1.18278658]\n",
      " [-0.5       ]\n",
      " [-1.18278658]\n",
      " [-1.31947922]\n",
      " [-0.46193977]\n",
      " [-0.8660254 ]\n",
      " [-1.25529311]\n",
      " [-0.35355339]\n",
      " [-0.41741971]\n",
      " [-1.        ]\n",
      " [-0.19134172]\n",
      " [ 0.09473435]\n",
      " [-0.59246596]\n",
      " [-0.        ]\n",
      " [ 0.59246596]\n",
      " [-0.09473435]\n",
      " [ 0.19134172]\n",
      " [ 1.        ]\n",
      " [ 0.41741971]\n",
      " [ 0.35355339]\n",
      " [ 1.25529311]\n",
      " [ 0.8660254 ]\n",
      " [ 0.46193977]\n",
      " [ 1.31947922]\n",
      " [ 1.18278658]\n",
      " [ 0.5       ]\n",
      " [ 1.18278658]\n",
      " [ 1.31947922]\n",
      " [ 0.46193977]\n",
      " [ 0.8660254 ]\n",
      " [ 1.25529311]\n",
      " [ 0.35355339]\n",
      " [ 0.41741971]\n",
      " [ 1.        ]\n",
      " [ 0.19134172]\n",
      " [-0.09473435]\n",
      " [ 0.59246596]\n",
      " [ 0.        ]\n",
      " [-0.59246596]\n",
      " [ 0.09473435]\n",
      " [-0.19134172]\n",
      " [-1.        ]\n",
      " [-0.41741971]\n",
      " [-0.35355339]\n",
      " [-1.25529311]]\n"
     ]
    }
   ],
   "source": [
    "# YOUR CODE HERE\n",
    "x = np.loadtxt(\"signal.dat\")\n",
    "M, N = x.shape\n",
    "\n",
    "x = x.reshape(M*N, 1)\n",
    "print(x)"
   ]
  },
  {
   "cell_type": "markdown",
   "metadata": {
    "deletable": false,
    "editable": false,
    "nbgrader": {
     "cell_type": "markdown",
     "checksum": "87785cee991c1771736ee2b5d76ed204",
     "grade": false,
     "grade_id": "cell-9ddb98a4a77f0f46",
     "locked": true,
     "schema_version": 3,
     "solution": false,
     "task": false
    }
   },
   "source": [
    "## 4. Matplotlib\n",
    "Matplotlib is a comprehensive library for creating static, animated, and interactive visualizations in Python."
   ]
  },
  {
   "cell_type": "code",
   "execution_count": 66,
   "metadata": {
    "deletable": false,
    "nbgrader": {
     "cell_type": "code",
     "checksum": "b7bc9cdb1d3af168e1ebfbf1ad459f85",
     "grade": true,
     "grade_id": "cell-6e58671fe1441db6",
     "locked": false,
     "points": 0,
     "schema_version": 3,
     "solution": true,
     "task": false
    }
   },
   "outputs": [
    {
     "data": {
      "image/png": "[encoded data removed]",
      "text/plain": [
       "<Figure size 1000x500 with 1 Axes>"
      ]
     },
     "metadata": {},
     "output_type": "display_data"
    }
   ],
   "source": [
    "# YOUR CODE HERE\n",
    "z = 2*x + 1\n",
    "\n",
    "plt.rcParams[\"figure.figsize\"] = (10,5)\n",
    "\n",
    "plt.plot(x, label= \"signal x\")\n",
    "plt.plot(z, label= \"signal y\", color =\"tab:red\")\n",
    "plt.title(\"Time Domain Signal\")\n",
    "plt.xlabel(\"samples\")\n",
    "plt.ylabel(\"amplitude\")\n",
    "plt.legend()\n",
    "plt.show()"
   ]
  },
  {
   "cell_type": "code",
   "execution_count": 67,
   "metadata": {
    "tags": []
   },
   "outputs": [],
   "source": [
    "np.random.seed(42)\n",
    "n = np.random.rand(x.shape[0], x.shape[1])"
   ]
  },
  {
   "cell_type": "markdown",
   "metadata": {
    "deletable": false,
    "editable": false,
    "nbgrader": {
     "cell_type": "markdown",
     "checksum": "9478419cbf71ba1433914965a577837a",
     "grade": false,
     "grade_id": "cell-95c13b710e385be8",
     "locked": true,
     "schema_version": 3,
     "solution": false,
     "task": false
    }
   },
   "source": [
    "## 5. Pandas\n",
    "Pandas is a fast, powerful, flexible and easy to use open source data analysis and manipulation tool, built on top of the Python programming language."
   ]
  },
  {
   "cell_type": "code",
   "execution_count": 68,
   "metadata": {
    "deletable": false,
    "editable": false,
    "nbgrader": {
     "cell_type": "code",
     "checksum": "39c527aad90a5af62b0ca0cabb22e7fb",
     "grade": false,
     "grade_id": "cell-2c57359bae935e09",
     "locked": true,
     "schema_version": 3,
     "solution": false,
     "task": false
    }
   },
   "outputs": [],
   "source": [
    "import pandas as pd"
   ]
  },
  {
   "cell_type": "code",
   "execution_count": 69,
   "metadata": {
    "deletable": false,
    "nbgrader": {
     "cell_type": "code",
     "checksum": "5a5b29e82e99cb332fb556d1b369d5a9",
     "grade": false,
     "grade_id": "cell-cfe37d25fb6e3dfd",
     "locked": false,
     "schema_version": 3,
     "solution": true,
     "task": false
    }
   },
   "outputs": [
    {
     "data": {
      "text/html": [
       "<div>\n",
       "<style scoped>\n",
       "    .dataframe tbody tr th:only-of-type {\n",
       "        vertical-align: middle;\n",
       "    }\n",
       "\n",
       "    .dataframe tbody tr th {\n",
       "        vertical-align: top;\n",
       "    }\n",
       "\n",
       "    .dataframe thead th {\n",
       "        text-align: right;\n",
       "    }\n",
       "</style>\n",
       "<table border=\"1\" class=\"dataframe\">\n",
       "  <thead>\n",
       "    <tr style=\"text-align: right;\">\n",
       "      <th></th>\n",
       "      <th>Make</th>\n",
       "      <th>Model</th>\n",
       "      <th>Year</th>\n",
       "      <th>Engine Fuel Type</th>\n",
       "      <th>Engine HP</th>\n",
       "      <th>Engine Cylinders</th>\n",
       "      <th>Transmission Type</th>\n",
       "      <th>Driven_Wheels</th>\n",
       "      <th>Number of Doors</th>\n",
       "      <th>Market Category</th>\n",
       "      <th>Vehicle Size</th>\n",
       "      <th>Vehicle Style</th>\n",
       "      <th>highway MPG</th>\n",
       "      <th>city mpg</th>\n",
       "      <th>Popularity</th>\n",
       "      <th>MSRP</th>\n",
       "    </tr>\n",
       "  </thead>\n",
       "  <tbody>\n",
       "    <tr>\n",
       "      <th>0</th>\n",
       "      <td>BMW</td>\n",
       "      <td>1 Series M</td>\n",
       "      <td>2011</td>\n",
       "      <td>premium unleaded (required)</td>\n",
       "      <td>335.0</td>\n",
       "      <td>6.0</td>\n",
       "      <td>MANUAL</td>\n",
       "      <td>rear wheel drive</td>\n",
       "      <td>2.0</td>\n",
       "      <td>Factory Tuner,Luxury,High-Performance</td>\n",
       "      <td>Compact</td>\n",
       "      <td>Coupe</td>\n",
       "      <td>26</td>\n",
       "      <td>19</td>\n",
       "      <td>3916</td>\n",
       "      <td>46135</td>\n",
       "    </tr>\n",
       "    <tr>\n",
       "      <th>1</th>\n",
       "      <td>BMW</td>\n",
       "      <td>1 Series</td>\n",
       "      <td>2011</td>\n",
       "      <td>premium unleaded (required)</td>\n",
       "      <td>300.0</td>\n",
       "      <td>6.0</td>\n",
       "      <td>MANUAL</td>\n",
       "      <td>rear wheel drive</td>\n",
       "      <td>2.0</td>\n",
       "      <td>Luxury,Performance</td>\n",
       "      <td>Compact</td>\n",
       "      <td>Convertible</td>\n",
       "      <td>28</td>\n",
       "      <td>19</td>\n",
       "      <td>3916</td>\n",
       "      <td>40650</td>\n",
       "    </tr>\n",
       "    <tr>\n",
       "      <th>2</th>\n",
       "      <td>BMW</td>\n",
       "      <td>1 Series</td>\n",
       "      <td>2011</td>\n",
       "      <td>premium unleaded (required)</td>\n",
       "      <td>300.0</td>\n",
       "      <td>6.0</td>\n",
       "      <td>MANUAL</td>\n",
       "      <td>rear wheel drive</td>\n",
       "      <td>2.0</td>\n",
       "      <td>Luxury,High-Performance</td>\n",
       "      <td>Compact</td>\n",
       "      <td>Coupe</td>\n",
       "      <td>28</td>\n",
       "      <td>20</td>\n",
       "      <td>3916</td>\n",
       "      <td>36350</td>\n",
       "    </tr>\n",
       "  </tbody>\n",
       "</table>\n",
       "</div>"
      ],
      "text/plain": [
       "  Make       Model  Year             Engine Fuel Type  Engine HP  \\\n",
       "0  BMW  1 Series M  2011  premium unleaded (required)      335.0   \n",
       "1  BMW    1 Series  2011  premium unleaded (required)      300.0   \n",
       "2  BMW    1 Series  2011  premium unleaded (required)      300.0   \n",
       "\n",
       "   Engine Cylinders Transmission Type     Driven_Wheels  Number of Doors  \\\n",
       "0               6.0            MANUAL  rear wheel drive              2.0   \n",
       "1               6.0            MANUAL  rear wheel drive              2.0   \n",
       "2               6.0            MANUAL  rear wheel drive              2.0   \n",
       "\n",
       "                         Market Category Vehicle Size Vehicle Style  \\\n",
       "0  Factory Tuner,Luxury,High-Performance      Compact         Coupe   \n",
       "1                     Luxury,Performance      Compact   Convertible   \n",
       "2                Luxury,High-Performance      Compact         Coupe   \n",
       "\n",
       "   highway MPG  city mpg  Popularity   MSRP  \n",
       "0           26        19        3916  46135  \n",
       "1           28        19        3916  40650  \n",
       "2           28        20        3916  36350  "
      ]
     },
     "execution_count": 69,
     "metadata": {},
     "output_type": "execute_result"
    }
   ],
   "source": [
    "# Rad csv file\n",
    "# YOUR CODE HERE\n",
    "df = pd.read_csv(\"data.csv\")\n",
    "\n",
    "df.tail(3)\n",
    "df.head(3)"
   ]
  },
  {
   "cell_type": "code",
   "execution_count": 70,
   "metadata": {
    "deletable": false,
    "nbgrader": {
     "cell_type": "code",
     "checksum": "a4e16152ea8f05ccb49bf9c9543b54e8",
     "grade": false,
     "grade_id": "cell-810fb9df9481543c",
     "locked": false,
     "schema_version": 3,
     "solution": true,
     "task": false
    }
   },
   "outputs": [
    {
     "data": {
      "text/plain": [
       "Index(['Make', 'Model', 'Year', 'Engine Fuel Type', 'Engine HP',\n",
       "       'Engine Cylinders', 'Transmission Type', 'Driven_Wheels',\n",
       "       'Number of Doors', 'Market Category', 'Vehicle Size', 'Vehicle Style',\n",
       "       'highway MPG', 'city mpg', 'Popularity', 'MSRP'],\n",
       "      dtype='object')"
      ]
     },
     "execution_count": 70,
     "metadata": {},
     "output_type": "execute_result"
    }
   ],
   "source": [
    "# List all column names\n",
    "# YOUR CODE HERE\n",
    "df.columns"
   ]
  },
  {
   "cell_type": "code",
   "execution_count": 71,
   "metadata": {
    "deletable": false,
    "nbgrader": {
     "cell_type": "code",
     "checksum": "dcca157c44f40be641ab05077418c86f",
     "grade": false,
     "grade_id": "cell-f6071668179c0ec3",
     "locked": false,
     "schema_version": 3,
     "solution": true,
     "task": false
    }
   },
   "outputs": [],
   "source": [
    "# Create new data frame\n",
    "new_df = df[[\"Make\", \"highway MPG\"]].copy()\n"
   ]
  },
  {
   "cell_type": "code",
   "execution_count": 72,
   "metadata": {
    "deletable": false,
    "nbgrader": {
     "cell_type": "code",
     "checksum": "ce8e560337a736d551dbe9468f295c9d",
     "grade": false,
     "grade_id": "cell-221e4d87c7a10caa",
     "locked": false,
     "schema_version": 3,
     "solution": true,
     "task": false
    }
   },
   "outputs": [
    {
     "name": "stdout",
     "output_type": "stream",
     "text": [
      "mean = 26.64 \n",
      "max = 354 \n",
      "min = 12\n"
     ]
    }
   ],
   "source": [
    "# Find outlier\n",
    "# YOUR CODE HERE\n",
    "#para ver los valores de highway\n",
    "#si solo se trabaja con una columna solo se usa un corchete si se usan mas se ponen dos. \n",
    "\n",
    "mean = new_df[\"highway MPG\"].mean()\n",
    "max = new_df[\"highway MPG\"].max()\n",
    "min = new_df[\"highway MPG\"].min()\n",
    "\n",
    "print(f\"mean = {np.round(mean,2)} \\nmax = {max} \\nmin = {min}\")\n"
   ]
  },
  {
   "cell_type": "code",
   "execution_count": 73,
   "metadata": {
    "deletable": false,
    "nbgrader": {
     "cell_type": "code",
     "checksum": "812011262278fad0d227355ee00845ad",
     "grade": false,
     "grade_id": "cell-453bc89e54d33ba6",
     "locked": false,
     "schema_version": 3,
     "solution": true,
     "task": false
    }
   },
   "outputs": [],
   "source": [
    "# Remove outlier\n",
    "# YOUR CODE HERE\n"
   ]
  },
  {
   "cell_type": "code",
   "execution_count": 74,
   "metadata": {
    "deletable": false,
    "nbgrader": {
     "cell_type": "code",
     "checksum": "6537022e2ed524bff4b9a0a8882711d0",
     "grade": false,
     "grade_id": "cell-5862ecd7aad36e79",
     "locked": false,
     "schema_version": 3,
     "solution": true,
     "task": false
    }
   },
   "outputs": [
    {
     "data": {
      "image/png": "[encoded data removed]",
      "text/plain": [
       "<Figure size 1000x500 with 1 Axes>"
      ]
     },
     "metadata": {},
     "output_type": "display_data"
    }
   ],
   "source": [
    "# Plot histogram\n",
    "# YOUR CODE HERE\n",
    "plt.hist(new_df[\"highway MPG\"], bins =100)\n",
    "plt.show()"
   ]
  },
  {
   "cell_type": "code",
   "execution_count": null,
   "metadata": {},
   "outputs": [],
   "source": []
  }
 ],
 "metadata": {
  "kernelspec": {
   "display_name": "Python 3 (ipykernel)",
   "language": "python",
   "name": "python3"
  },
  "language_info": {
   "codemirror_mode": {
    "name": "ipython",
    "version": 3
   },
   "file_extension": ".py",
   "mimetype": "text/x-python",
   "name": "python",
   "nbconvert_exporter": "python",
   "pygments_lexer": "ipython3",
   "version": "3.11.4"
  }
 },
 "nbformat": 4,
 "nbformat_minor": 4
}
